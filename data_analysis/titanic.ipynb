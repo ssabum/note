{
  "nbformat": 4,
  "nbformat_minor": 0,
  "metadata": {
    "colab": {
      "name": "타이타닉_데이터분석튜토리얼.ipynb",
      "private_outputs": true,
      "provenance": [],
      "collapsed_sections": []
    },
    "kernelspec": {
      "name": "python3",
      "display_name": "Python 3"
    },
    "language_info": {
      "name": "python"
    },
    "accelerator": "GPU"
  },
  "cells": [
    {
      "cell_type": "code",
      "metadata": {
        "id": "JnQOJMk0ZhVv"
      },
      "source": [
        "# kaggle과 colab 연동\n",
        "!pip install kaggle"
      ],
      "execution_count": null,
      "outputs": []
    },
    {
      "cell_type": "code",
      "metadata": {
        "id": "P0O2ZZhyaOit"
      },
      "source": [
        "from google.colab import files"
      ],
      "execution_count": null,
      "outputs": []
    },
    {
      "cell_type": "code",
      "metadata": {
        "id": "c9cn95dSaRkP"
      },
      "source": [
        "files.upload()"
      ],
      "execution_count": null,
      "outputs": []
    },
    {
      "cell_type": "code",
      "metadata": {
        "id": "iEeVjkQlaTo5"
      },
      "source": [
        "!mkdir -p ~/.kaggle\n",
        "!cp kaggle.json ~/.kaggle/\n",
        "!chmod 600 ~/.kaggle/kaggle.json"
      ],
      "execution_count": null,
      "outputs": []
    },
    {
      "cell_type": "code",
      "metadata": {
        "id": "DOWWilgeanJv"
      },
      "source": [
        "# API로 data set download\n",
        "!kaggle competitions download -c 2019-1st-ml-month-with-kakr"
      ],
      "execution_count": null,
      "outputs": []
    },
    {
      "cell_type": "code",
      "metadata": {
        "id": "0m1AW1v_a70s"
      },
      "source": [
        "!unzip -q /content/2019-1st-ml-month-with-kakr\n",
        "!ls"
      ],
      "execution_count": null,
      "outputs": []
    },
    {
      "cell_type": "markdown",
      "metadata": {
        "id": "9hxPJ9j0cOad"
      },
      "source": [
        "# 왜 타이타닉?\n",
        "데이터 분석 전체 프로세스를 빠르게 경험할 수 있으며,<br> 접근하기 좋은 Binary Classification 문제이기 때문에.\n",
        "\n",
        "# 진행 프로세스\n",
        "1. 데이터셋 확인\n",
        "* 데이터를 수집하고 전처리\n",
        "2. 탐색적 데이터 분석(EDA)\n",
        "* 여러 특성들을 분석하고 상관관계를 확인\n",
        "* 시각화를 통해 insight 도출\n",
        "3. 특성공학(Feature Engineering)\n",
        "* 모델의 성능을 높이기 위해 특성을 엔지니어링\n",
        "4. 모델 개발 및 학습\n",
        "* sklearn, keras 등을 이용해 모델을 제작\n",
        "5. 모델 예측 및 평가\n",
        "* 훈련 데이터를 가지고 모델을 학습시키고, 테스트 데이터를 가지고 예측합니다."
      ]
    },
    {
      "cell_type": "markdown",
      "metadata": {
        "id": "U5K2wTu9r8g0"
      },
      "source": [
        "# 1. 데이터셋 확인"
      ]
    },
    {
      "cell_type": "code",
      "metadata": {
        "id": "ERqsoEh4d4u3"
      },
      "source": [
        "# 데이터셋 확인\n",
        "import os\n",
        "import numpy as np\n",
        "import pandas as pd\n",
        "import matplotlib.pyplot as plt\n",
        "import seaborn as sns\n",
        "import keras\n",
        "import sklearn\n",
        "\n",
        "# seaborn 셋팅 => matplotlib을 기반으로 다양한 색상 테마와 통계용 기능을 추가한 시각화 패키지\n",
        "plt.style.use('seaborn')\n",
        "sns.set(font_scale=2.5)\n",
        "\n",
        "import missingno as msno\n",
        "\n",
        "import warnings\n",
        "# 경고 메시지 생략\n",
        "warnings.filterwarnings('ignore')\n",
        "\n",
        "%matplotlib inline"
      ],
      "execution_count": null,
      "outputs": []
    },
    {
      "cell_type": "code",
      "metadata": {
        "id": "cXt0c7bmizV_"
      },
      "source": [
        "df_train = pd.read_csv('train.csv')\n",
        "df_test = pd.read_csv('test.csv')\n",
        "df_submit = pd.read_csv('sample_submission.csv')"
      ],
      "execution_count": null,
      "outputs": []
    },
    {
      "cell_type": "code",
      "metadata": {
        "id": "H9RU1ifkjdRD"
      },
      "source": [
        "# 각 데이터셋 크기 확인\n",
        "df_train.shape, df_test.shape, df_submit.shape"
      ],
      "execution_count": null,
      "outputs": []
    },
    {
      "cell_type": "code",
      "metadata": {
        "id": "y5_ucWy-lveq"
      },
      "source": [
        "# column(feature) 확인\n",
        "df_train.columns"
      ],
      "execution_count": null,
      "outputs": []
    },
    {
      "cell_type": "code",
      "metadata": {
        "id": "Qx7q8zBPmMzl"
      },
      "source": [
        "df_submit.columns"
      ],
      "execution_count": null,
      "outputs": []
    },
    {
      "cell_type": "code",
      "metadata": {
        "id": "maWtmJHqmbDT"
      },
      "source": [
        "df_train.head()"
      ],
      "execution_count": null,
      "outputs": []
    },
    {
      "cell_type": "code",
      "metadata": {
        "id": "4jCVhkuymjcH"
      },
      "source": [
        "df_submit.head()"
      ],
      "execution_count": null,
      "outputs": []
    },
    {
      "cell_type": "markdown",
      "metadata": {
        "id": "pXapFcWymnPV"
      },
      "source": [
        "## 데이터 Feature 설명\n",
        "* survival - 생존유무 => target 값 (0=사망, 1=생존)\n",
        "* pclass - 티켓클래스\n",
        "* sex - 성별\n",
        "* age - 나이\n",
        "* sibsp - 함께 탑승한 형제자매, 배우자 수 총합\n",
        "* parch - 함꺼 탑승한 부모, 자녀 수 총합\n",
        "* ticket - 티켓 넘버\n",
        "* fare - 탑승 요금\n",
        "* cabin - 객실 넘버\n",
        "* bembarked - 탑승 항구"
      ]
    },
    {
      "cell_type": "code",
      "metadata": {
        "id": "6LB3WoYgnNUS"
      },
      "source": [
        "df_train.dtypes"
      ],
      "execution_count": null,
      "outputs": []
    },
    {
      "cell_type": "code",
      "metadata": {
        "id": "TUNiT6CtncBl"
      },
      "source": [
        "df_train.describe()"
      ],
      "execution_count": null,
      "outputs": []
    },
    {
      "cell_type": "code",
      "metadata": {
        "id": "bOz679oMne5_"
      },
      "source": [
        "# 전처리 / 결측치 확인 => train set과 test set에 비슷하게 age에 20% cabin에 80%의 결측지 발견\n",
        "df_train.isnull().sum() / df_train.shape[0]"
      ],
      "execution_count": null,
      "outputs": []
    },
    {
      "cell_type": "code",
      "metadata": {
        "id": "0vrFDtlOnpZC"
      },
      "source": [
        "df_test.isnull().sum() / df_test.shape[0]"
      ],
      "execution_count": null,
      "outputs": []
    },
    {
      "cell_type": "markdown",
      "metadata": {
        "id": "ggms90S3ntDX"
      },
      "source": [
        "## Target Label 확인\n",
        "target label이 어떤 distribution을 가지고 있는지 확인 필요<br>\n",
        "binary classification에서 분포가 어떠냐에 따라 모델의 평가방법이 달라지기 때문"
      ]
    },
    {
      "cell_type": "code",
      "metadata": {
        "id": "OqB9K_NRod-W"
      },
      "source": [
        "f, ax = plt.subplots(1, 2, figsize=(18, 8))\n",
        "\n",
        "# 파이그래프\n",
        "df_train['Survived'].value_counts().plot.pie(explode=[0, 0.1], autopct='%1.1f%%', ax=ax[0], shadow=True)\n",
        "ax[0].set_title('Pie plot - Survived')\n",
        "ax[0].set_ylabel('')\n",
        "# 항목별 개수를 카운트\n",
        "sns.countplot('Survived', data=df_train, ax=ax[1])\n",
        "ax[1].set_title('Count plot - Survived')\n",
        "\n",
        "plt.show()\n",
        "# target label의 분포가 제법 균일하므로 binary classification에 적합"
      ],
      "execution_count": null,
      "outputs": []
    },
    {
      "cell_type": "markdown",
      "metadata": {
        "id": "YFeupROapmQ0"
      },
      "source": [
        "## 파이그래프 속성\n",
        "plt.pie(slice, labels=activities, startangle=90, shadow=True, explode=(0, 0, 0.1, 0), autopct='%1.1f%%')\n",
        "* slice: 파이 조각의 데이터\n",
        "* labels: 파이 조각의 라벨\n",
        "* startangle: 그려지는 파이 조각 시작 위치\n",
        "* shadow: 파이 차트의 그림자 효과 유무\n",
        "* explode: 파이 조각이 돌출되는 크기\n",
        "* autopct: 파이 조각의 전체 대비 백분율"
      ]
    },
    {
      "cell_type": "markdown",
      "metadata": {
        "id": "BsGBfGzdr4SM"
      },
      "source": [
        "# 2. 탐색적 데이터 분석(Exploratory Data Analysys)"
      ]
    },
    {
      "cell_type": "markdown",
      "metadata": {
        "id": "HQS6swnUsH5Y"
      },
      "source": [
        "## 1. Pcalss\n",
        "* Pclass는 서수형 데이터입니다.\n",
        "* Pclass,Survived 를 가져온 후, pclass 로 묶으면 각 pclass 마다 0, 1 이 count가 되는데,\n",
        "이를 평균내면 각 pclass 별 생존률이 추출"
      ]
    },
    {
      "cell_type": "code",
      "metadata": {
        "id": "veA69MsJsfTp"
      },
      "source": [
        "df_train[['Pclass', 'Survived']].groupby(['Pclass'], as_index=True).count()"
      ],
      "execution_count": null,
      "outputs": []
    },
    {
      "cell_type": "code",
      "metadata": {
        "id": "aDqQjaGjtDSV"
      },
      "source": [
        "df_train[['Pclass', 'Survived']].groupby(['Pclass'], as_index=True).sum()"
      ],
      "execution_count": null,
      "outputs": []
    },
    {
      "cell_type": "code",
      "metadata": {
        "id": "zRiNCxyGtP2O"
      },
      "source": [
        "# 빈도표\n",
        "pd.crosstab(df_train['Pclass'], df_train['Survived'], margins=True)"
      ],
      "execution_count": null,
      "outputs": []
    },
    {
      "cell_type": "code",
      "metadata": {
        "id": "_ZL0ktwStTYw"
      },
      "source": [
        "# 생존률\n",
        "df_train[['Pclass', 'Survived']].groupby(['Pclass'], as_index=True).mean()"
      ],
      "execution_count": null,
      "outputs": []
    },
    {
      "cell_type": "code",
      "metadata": {
        "id": "_m0OLI4vt7aL"
      },
      "source": [
        "# 막대그래프 시각화\n",
        "df_train[['Pclass', 'Survived']].groupby(['Pclass'], as_index=True).mean().plot.bar()\n",
        "# 생존률에 Pclass가 큰 영향을 미친다고 생각할 수 있다.\n",
        "# 따라서 모델 생성시 해당 feature 사용이 좋을 것이라 판단"
      ],
      "execution_count": null,
      "outputs": []
    },
    {
      "cell_type": "markdown",
      "metadata": {
        "id": "sY_Vho4Qt_tJ"
      },
      "source": [
        "## 2. Sex"
      ]
    },
    {
      "cell_type": "code",
      "metadata": {
        "id": "OX4geT-BvoHg"
      },
      "source": [
        "f, ax = plt.subplots(1, 2, figsize=(18, 8))\n",
        "df_train[['Sex', 'Survived']].groupby(['Sex'], as_index=True).mean().plot.bar(ax=ax[0])\n",
        "ax[0].set_title('Survived vs Sex')\n",
        "sns.countplot('Sex', hue='Survived', data=df_train, ax=ax[1])\n",
        "ax[1].set_title('Sex: Survived vs Dead')\n",
        "plt.show()\n",
        "# 남성보다 여성의 생존확률이 높습니다.\n",
        "# Pclass와 마찬가지로, Sex도 예측 모델에 쓰일 중요 featured임을 알 수 있다."
      ],
      "execution_count": null,
      "outputs": []
    },
    {
      "cell_type": "markdown",
      "metadata": {
        "id": "RBt-OYUAvqpf"
      },
      "source": [
        "## 3. Both Sex and Pclass"
      ]
    },
    {
      "cell_type": "code",
      "metadata": {
        "id": "N589VMhNv_MX"
      },
      "source": [
        "# factor형의 변수의 시각화를 할 때 유용한 시각화\n",
        "sns.factorplot('Pclass', 'Survived', hue='Sex', data=df_train, size=6, aspect=1.5)\n",
        "# 모든 클래스에서 여성의 생존률이 남성보다 높다."
      ],
      "execution_count": null,
      "outputs": []
    },
    {
      "cell_type": "markdown",
      "metadata": {
        "id": "kMnv8qBlwcgm"
      },
      "source": [
        "## 4. Age"
      ]
    },
    {
      "cell_type": "code",
      "metadata": {
        "id": "clqZgD0SwlHl"
      },
      "source": [
        "print('제일 나이 많은 탑승객 : {:.1f} Years'.format(df_train['Age'].max()))\n",
        "print('제일 어린 탑승객 : {:.1f} Years'.format(df_train['Age'].min()))\n",
        "print('탑승객 평균 나이 : {:.1f} Years'.format(df_train['Age'].mean()))"
      ],
      "execution_count": null,
      "outputs": []
    },
    {
      "cell_type": "code",
      "metadata": {
        "id": "NTs4nLhHwnUG"
      },
      "source": [
        "# 막대그래프는 어떤 분포로 퍼져있는지 확인할 수 없다. 그래서 분포를 확인할 때는 히스토그램을 사용\n",
        "# but, 히스토그램은 구간을 어떻게 설정하냐에 따라 결과물이 크게 달라진다.\n",
        "# 그 대안으로 분포를 곡선화 시켜주는 커널밀도추정(KDE)을 많이 사용\n",
        "fig, ax = plt.subplots(1, 1, figsize=(9, 5))\n",
        "sns.kdeplot(df_train[df_train['Survived'] == 1]['Age'], ax=ax)\n",
        "sns.kdeplot(df_train[df_train['Survived'] == 0]['Age'], ax=ax)\n",
        "plt.legend(['Survived == 1', 'Survived == 0'])\n",
        "plt.show()\n",
        "# 생존 KDE와 사망 KDE를 비교했을때 어린나이 구간에서 생존률이 상대적으로 높음을 알 수 있다."
      ],
      "execution_count": null,
      "outputs": []
    },
    {
      "cell_type": "code",
      "metadata": {
        "id": "CeQ1LSEMwqe8"
      },
      "source": [
        "cummulate_survival_ratio = []\n",
        "for i in range(1, 80):\n",
        "    cummulate_survival_ratio.append(df_train[df_train['Age'] < i]['Survived'].sum() / len(df_train[df_train['Age'] < i]['Survived']))\n",
        "    \n",
        "plt.figure(figsize=(7, 7))\n",
        "plt.plot(cummulate_survival_ratio)\n",
        "plt.title('Survival rate change depending on range of Age', y=1.02)\n",
        "plt.ylabel('Survival rate')\n",
        "plt.xlabel('Range of Age(0~x)')\n",
        "plt.show()\n",
        "# 나이가 어릴수록 생존률이 확실히 증가하는 것을 확인 가능\n",
        "# Age도 중요 feature임을 확인할 수 있다."
      ],
      "execution_count": null,
      "outputs": []
    },
    {
      "cell_type": "markdown",
      "metadata": {
        "id": "ZdQbsjOJx5pZ"
      },
      "source": [
        "## 5. Embarked"
      ]
    },
    {
      "cell_type": "code",
      "metadata": {
        "id": "Dcg4O2LQy-CL"
      },
      "source": [
        "df_train['Embarked'].unique()"
      ],
      "execution_count": null,
      "outputs": []
    },
    {
      "cell_type": "code",
      "metadata": {
        "id": "HWolDxuPzAqC"
      },
      "source": [
        "f, ax = plt.subplots(1, 1, figsize=(7, 7))\n",
        "df_train[['Embarked', 'Survived']].groupby(['Embarked'], as_index=True).mean().sort_values(by='Survived', ascending=False).plot.bar(ax=ax)\n",
        "# 탑승항구 별 생존률의 차이가 크진 않다."
      ],
      "execution_count": null,
      "outputs": []
    },
    {
      "cell_type": "code",
      "metadata": {
        "id": "M4yjNfe9zDCF"
      },
      "source": [
        "# 다른 feature와의 상관관계\n",
        "f,ax=plt.subplots(2, 2, figsize=(20,15))\n",
        "sns.countplot('Embarked', data=df_train, ax=ax[0,0])\n",
        "ax[0,0].set_title('(1) No. Of Passengers Boarded')\n",
        "sns.countplot('Embarked', hue='Sex', data=df_train, ax=ax[0,1])\n",
        "ax[0,1].set_title('(2) Male-Female Split for Embarked')\n",
        "sns.countplot('Embarked', hue='Survived', data=df_train, ax=ax[1,0])\n",
        "ax[1,0].set_title('(3) Embarked vs Survived')\n",
        "sns.countplot('Embarked', hue='Pclass', data=df_train, ax=ax[1,1])\n",
        "ax[1,1].set_title('(4) Embarked vs Pclass')\n",
        "plt.subplots_adjust(wspace=0.2, hspace=0.5)\n",
        "plt.show()"
      ],
      "execution_count": null,
      "outputs": []
    },
    {
      "cell_type": "markdown",
      "metadata": {
        "id": "lhm6iNExzVtH"
      },
      "source": [
        "* Figure(1) - 전체적으로 봤을 때, S 에서 가장 많은 사람이 탑승했습니다.\n",
        "* Figure(2) - C와 Q 는 남녀의 비율이 비슷하고, S는 남자가 더 많습니다.\n",
        "* Figure(3) - 생존확률이 S 경우 많이 낮은 걸 볼 수 있습니다. (이전 그래프에서 봤었습니다)\n",
        "* Figure(4) - Class 로 split 해서 보니, C가 생존확률이 높은건 클래스가 높은 사람이 많이 타서 그렇습니다. S는 3rd class 가 많아서 생존확률이 낮게 나옵니다."
      ]
    },
    {
      "cell_type": "markdown",
      "metadata": {
        "id": "1bRM5dlbzc-i"
      },
      "source": [
        "## 6. Family(Sibsp + Parch)"
      ]
    },
    {
      "cell_type": "code",
      "metadata": {
        "id": "LzHYZ7Y5zw3M"
      },
      "source": [
        "# Sibsp와 Parch를 합치면 함께 탑승한 가족의 수가 되므로 새로운 Feature 생성\n",
        "df_train['FamilySize'] = df_train['SibSp'] + df_train['Parch'] + 1 # 자신을 포함해야하니 1을 더합니다\n",
        "df_test['FamilySize'] = df_test['SibSp'] + df_test['Parch'] + 1 # 자신을 포함해야하니 1을 더합니다"
      ],
      "execution_count": null,
      "outputs": []
    },
    {
      "cell_type": "code",
      "metadata": {
        "id": "Qh3qKOgaz-Kb"
      },
      "source": [
        "print(\"Maximum size of Family: \", df_train['FamilySize'].max())\n",
        "print(\"Minimum size of Family: \", df_train['FamilySize'].min())"
      ],
      "execution_count": null,
      "outputs": []
    },
    {
      "cell_type": "code",
      "metadata": {
        "id": "HuPq4gPR0BQ3"
      },
      "source": [
        "f,ax=plt.subplots(1, 3, figsize=(40,10))\n",
        "sns.countplot('FamilySize', data=df_train, ax=ax[0])\n",
        "ax[0].set_title('(1) No. Of Passengers Boarded', y=1.02)\n",
        "\n",
        "sns.countplot('FamilySize', hue='Survived', data=df_train, ax=ax[1])\n",
        "ax[1].set_title('(2) Survived countplot depending on FamilySize',  y=1.02)\n",
        "\n",
        "df_train[['FamilySize', 'Survived']].groupby(['FamilySize'], as_index=True).mean().sort_values(by='Survived', ascending=False).plot.bar(ax=ax[2])\n",
        "ax[2].set_title('(3) Survived rate depending on FamilySize',  y=1.02)\n",
        "\n",
        "plt.subplots_adjust(wspace=0.2, hspace=0.5)\n",
        "plt.show()"
      ],
      "execution_count": null,
      "outputs": []
    },
    {
      "cell_type": "markdown",
      "metadata": {
        "id": "zCOc27hm0Dsg"
      },
      "source": [
        "* Figure (1) - 가족크기가 1~11까지 있음을 볼 수 있습니다. 대부분 1명이고 그 다음으로 2, 3, 4명입니다.\n",
        "* Figure (2), (3) - 가족 크기에 따른 생존비교입니다. 가족이 4명인 경우가 가장 생존확률이 높습니다,\n",
        "가족수가 많아질수록, (5, 6, 7, 8, 11) 생존확률이 낮아지네요.\n",
        "가족수가 너무 작아도(1), 너무 커도(5, 6, 8, 11) 생존 확률이 작네요. 3~4명 선에서 생존확률이 높은 걸 확인할 수 있습니다."
      ]
    },
    {
      "cell_type": "markdown",
      "metadata": {
        "id": "4nl6pf7G0IgW"
      },
      "source": [
        "## 7. Fare"
      ]
    },
    {
      "cell_type": "code",
      "metadata": {
        "id": "_RW8Gg5p0LVW"
      },
      "source": [
        "# 탑승요금은 연속적인 데이터이므로 히스토그램 시각화\n",
        "fig, ax = plt.subplots(1, 1, figsize=(8, 8))\n",
        "g = sns.distplot(df_train['Fare'], color='b', label='Skewness : {:.2f}'.format(df_train['Fare'].skew()), ax=ax)\n",
        "g = g.legend(loc='best')"
      ],
      "execution_count": null,
      "outputs": []
    },
    {
      "cell_type": "code",
      "metadata": {
        "id": "3ZXH84M60QaE"
      },
      "source": [
        "# 특이하기도 train set 말고 test set에 Fare 피쳐에 널 값이 하나 존재하는 것을 확인할 수 있었습니다.\n",
        "# 그래서 평균 값으로 해당 널값을 넣어줍니다.\n",
        "df_test.loc[df_test.Fare.isnull(), 'Fare'] = df_test['Fare'].mean() # testset 에 있는 nan value 를 평균값으로 치환합니다.\n",
        "# log를 취해 보기 편하게 변환\n",
        "df_train['Fare'] = df_train['Fare'].map(lambda i: np.log(i) if i > 0 else 0)\n",
        "df_test['Fare'] = df_test['Fare'].map(lambda i: np.log(i) if i > 0 else 0)"
      ],
      "execution_count": null,
      "outputs": []
    },
    {
      "cell_type": "code",
      "metadata": {
        "id": "U52gdPqN0W-W"
      },
      "source": [
        "fig, ax = plt.subplots(1, 1, figsize=(8, 8))\n",
        "g = sns.distplot(df_train['Fare'], color='b', label='Skewness : {:.2f}'.format(df_train['Fare'].skew()), ax=ax)\n",
        "g = g.legend(loc='best')"
      ],
      "execution_count": null,
      "outputs": []
    },
    {
      "cell_type": "markdown",
      "metadata": {
        "id": "bdxhDsmX0YTk"
      },
      "source": [
        "## 8. Cabin\n",
        "NaN이 대략 80% 이므로, 생존에 영향을 미칠 중요한 정보를 얻어내기가 쉽지는 않습니다."
      ]
    },
    {
      "cell_type": "markdown",
      "metadata": {
        "id": "ZHNyo7Os0qXq"
      },
      "source": [
        "## 9. Ticket\n",
        "NaN은 없지만 이 데이터로 유효한 결과를 뽑아내기위해선 아이디어가 필요"
      ]
    },
    {
      "cell_type": "markdown",
      "metadata": {
        "id": "S5Hz5lcF1Ftl"
      },
      "source": [
        "# 3. 특성공학(Feature Engineering)"
      ]
    },
    {
      "cell_type": "markdown",
      "metadata": {
        "id": "35xfSYXK1SXp"
      },
      "source": [
        "## 1. Fill Null\n",
        "null data를 어떻게 채우느냐에 따라 모델의 성능이 좌지우지되므로 중요, train 뿐만 아니라 test도 똑같이 적용"
      ]
    },
    {
      "cell_type": "markdown",
      "metadata": {
        "id": "2WoHXQxQ1jYS"
      },
      "source": [
        "### 1. Age"
      ]
    },
    {
      "cell_type": "code",
      "metadata": {
        "id": "Gjp_4Lex1ql9"
      },
      "source": [
        "df_train[\"Age\"].isnull().sum()"
      ],
      "execution_count": null,
      "outputs": []
    },
    {
      "cell_type": "code",
      "metadata": {
        "id": "ZPK9bpIw1rmK"
      },
      "source": [
        "df_train['Initial']= df_train.Name.str.extract('([A-Za-z]+)\\.') #lets extract the Salutations\n",
        "df_test['Initial']= df_test.Name.str.extract('([A-Za-z]+)\\.') #lets extract the Salutations"
      ],
      "execution_count": null,
      "outputs": []
    },
    {
      "cell_type": "code",
      "metadata": {
        "id": "kRLaeC5r2CQa"
      },
      "source": [
        "# Initial과 Sex간의 count\n",
        "pd.crosstab(df_train['Initial'], df_train['Sex']).T.style.background_gradient(cmap='summer_r') #Checking the Initials with the Sex"
      ],
      "execution_count": null,
      "outputs": []
    },
    {
      "cell_type": "code",
      "metadata": {
        "id": "TelS9fyO2KvC"
      },
      "source": [
        "df_train['Initial'].replace(['Mlle','Mme','Ms','Dr','Major','Lady','Countess','Jonkheer','Col','Rev','Capt','Sir','Don', 'Dona'],\n",
        "                        ['Miss','Miss','Miss','Mr','Mr','Mrs','Mrs','Other','Other','Other','Mr','Mr','Mr', 'Mr'],inplace=True)\n",
        "\n",
        "df_test['Initial'].replace(['Mlle','Mme','Ms','Dr','Major','Lady','Countess','Jonkheer','Col','Rev','Capt','Sir','Don', 'Dona'],\n",
        "                        ['Miss','Miss','Miss','Mr','Mr','Mrs','Mrs','Other','Other','Other','Mr','Mr','Mr', 'Mr'],inplace=True)"
      ],
      "execution_count": null,
      "outputs": []
    },
    {
      "cell_type": "code",
      "metadata": {
        "id": "wmapZoLt2Nvh"
      },
      "source": [
        "df_train.groupby('Initial').mean()"
      ],
      "execution_count": null,
      "outputs": []
    },
    {
      "cell_type": "code",
      "metadata": {
        "id": "521uCkN62O_Z"
      },
      "source": [
        "df_train.groupby('Initial')['Survived'].mean().plot.bar()"
      ],
      "execution_count": null,
      "outputs": []
    },
    {
      "cell_type": "code",
      "metadata": {
        "id": "tljXB5182QLK"
      },
      "source": [
        "# train 에서 얻은 statistics 를 기반으로 null data 채우기\n",
        "df_train.groupby('Initial').mean()"
      ],
      "execution_count": null,
      "outputs": []
    },
    {
      "cell_type": "code",
      "metadata": {
        "id": "EOhuIDL52YMM"
      },
      "source": [
        "# 각 initial 그룹별 Age 평균 값을 사용해서 채우기\n",
        "df_train.loc[(df_train.Age.isnull())&(df_train.Initial=='Mr'),'Age'] = 33\n",
        "df_train.loc[(df_train.Age.isnull())&(df_train.Initial=='Mrs'),'Age'] = 36\n",
        "df_train.loc[(df_train.Age.isnull())&(df_train.Initial=='Master'),'Age'] = 5\n",
        "df_train.loc[(df_train.Age.isnull())&(df_train.Initial=='Miss'),'Age'] = 22\n",
        "df_train.loc[(df_train.Age.isnull())&(df_train.Initial=='Other'),'Age'] = 46\n",
        "\n",
        "df_test.loc[(df_test.Age.isnull())&(df_test.Initial=='Mr'),'Age'] = 33\n",
        "df_test.loc[(df_test.Age.isnull())&(df_test.Initial=='Mrs'),'Age'] = 36\n",
        "df_test.loc[(df_test.Age.isnull())&(df_test.Initial=='Master'),'Age'] = 5\n",
        "df_test.loc[(df_test.Age.isnull())&(df_test.Initial=='Miss'),'Age'] = 22\n",
        "df_test.loc[(df_test.Age.isnull())&(df_test.Initial=='Other'),'Age'] = 46"
      ],
      "execution_count": null,
      "outputs": []
    },
    {
      "cell_type": "code",
      "metadata": {
        "id": "2FyYvNeQ2dD9"
      },
      "source": [
        "df_train.isnull().sum()[df_train.isnull().sum() > 0]"
      ],
      "execution_count": null,
      "outputs": []
    },
    {
      "cell_type": "code",
      "metadata": {
        "id": "rGRuIp7X2fG3"
      },
      "source": [
        "df_test.isnull().sum()[df_test.isnull().sum() > 0]"
      ],
      "execution_count": null,
      "outputs": []
    },
    {
      "cell_type": "markdown",
      "metadata": {
        "id": "0DBKU2s22hgi"
      },
      "source": [
        "### 2. Embarked"
      ]
    },
    {
      "cell_type": "code",
      "metadata": {
        "id": "5W0upJuA2oxv"
      },
      "source": [
        "print('Embarked has ', sum(df_train['Embarked'].isnull()), ' Null values')"
      ],
      "execution_count": null,
      "outputs": []
    },
    {
      "cell_type": "code",
      "metadata": {
        "id": "AWxa5g1R2wCq"
      },
      "source": [
        "# S에서 가장 많이 탔으므로 S로 채우기\n",
        "df_train['Embarked'].fillna('S', inplace=True)\n",
        "df_train.isnull().sum()[df_train.isnull().sum() > 0]"
      ],
      "execution_count": null,
      "outputs": []
    },
    {
      "cell_type": "markdown",
      "metadata": {
        "id": "nsHtlyMZ269V"
      },
      "source": [
        "## 2. Change Age\n",
        "Age는 continuous feature이지만 그룹화하여 카테코리화 시켜줄 수 있다.<br>\n",
        "continous를 categorical로 바꾸면 impormation loss가 생길 수 있으므로 주의"
      ]
    },
    {
      "cell_type": "markdown",
      "metadata": {
        "id": "AHegtAbs3TQF"
      },
      "source": [
        "### Apply방식"
      ]
    },
    {
      "cell_type": "code",
      "metadata": {
        "id": "yPbUWhjX3f9g"
      },
      "source": [
        "def category_age(x):\n",
        "    if x < 10:\n",
        "        return 0\n",
        "    elif x < 20:\n",
        "        return 1\n",
        "    elif x < 30:\n",
        "        return 2\n",
        "    elif x < 40:\n",
        "        return 3\n",
        "    elif x < 50:\n",
        "        return 4\n",
        "    elif x < 60:\n",
        "        return 5\n",
        "    elif x < 70:\n",
        "        return 6\n",
        "    else:\n",
        "        return 7    \n",
        "    \n",
        "df_train['Age_cat'] = df_train['Age'].apply(category_age)\n",
        "df_test['Age_cat'] = df_test['Age'].apply(category_age)"
      ],
      "execution_count": null,
      "outputs": []
    },
    {
      "cell_type": "code",
      "metadata": {
        "id": "irj_RCGL4XMh"
      },
      "source": [
        "df_train.groupby(['Age_cat'])['PassengerId'].count()"
      ],
      "execution_count": null,
      "outputs": []
    },
    {
      "cell_type": "markdown",
      "metadata": {
        "id": "2h1Y0N0q4YaP"
      },
      "source": [
        "## 3. Change Initial, Embarked and Sex\n",
        "컴퓨터가 인식할 수 있도록 수치화"
      ]
    },
    {
      "cell_type": "code",
      "metadata": {
        "id": "u0AaTO_d4mCZ"
      },
      "source": [
        "df_train['Initial'] = df_train['Initial'].map({'Master': 0, 'Miss': 1, 'Mr': 2, 'Mrs': 3, 'Other': 4})\n",
        "df_test['Initial'] = df_test['Initial'].map({'Master': 0, 'Miss': 1, 'Mr': 2, 'Mrs': 3, 'Other': 4})"
      ],
      "execution_count": null,
      "outputs": []
    },
    {
      "cell_type": "code",
      "metadata": {
        "id": "r9hIZTWH4nl3"
      },
      "source": [
        "df_train['Embarked'] = df_train['Embarked'].map({'C': 0, 'Q': 1, 'S': 2})\n",
        "df_test['Embarked'] = df_test['Embarked'].map({'C': 0, 'Q': 1, 'S': 2})"
      ],
      "execution_count": null,
      "outputs": []
    },
    {
      "cell_type": "code",
      "metadata": {
        "id": "9JcdWQZM4pux"
      },
      "source": [
        "df_train['Sex'] = df_train['Sex'].map({'female': 0, 'male': 1})\n",
        "df_test['Sex'] = df_test['Sex'].map({'female': 0, 'male': 1})"
      ],
      "execution_count": null,
      "outputs": []
    },
    {
      "cell_type": "code",
      "metadata": {
        "id": "Iw2jQTJt4tbw"
      },
      "source": [
        "# 각 feature별 상관관계 시각화\n",
        "heatmap_data = df_train[['Survived', 'Pclass', 'Sex', 'Fare', 'Embarked', 'FamilySize', 'Initial', 'Age_cat', 'Age']] \n",
        "\n",
        "colormap = plt.cm.RdBu\n",
        "plt.figure(figsize=(14, 12))\n",
        "plt.title('Pearson Correlation of Features', y=1.05, size=15)\n",
        "sns.heatmap(heatmap_data.astype(float).corr(), linewidths=0.1, vmax=1.0,\n",
        "           square=True, cmap=colormap, linecolor='white', annot=True, annot_kws={\"size\": 16})\n",
        "\n",
        "del heatmap_data"
      ],
      "execution_count": null,
      "outputs": []
    },
    {
      "cell_type": "markdown",
      "metadata": {
        "id": "uWbvciDz42CP"
      },
      "source": [
        "* Sex 와 Pclass 가 Survived 에 상관관계가 어느 정도 있음을 볼 수 있습니다.\n",
        "* 생각보다 fare 와 Embarked 도 상관관계가 있음을 볼 수 있습니다.\n",
        "* 강한 상관관계를 가지는 feature들이 없다.<br>\n",
        "따라서 모델을 학습시킬 때, 불필요한 feature 가 없다."
      ]
    },
    {
      "cell_type": "markdown",
      "metadata": {
        "id": "FePc_h_36LAG"
      },
      "source": [
        "## 4. 데이터 전처리(Data Preprocessing)\n",
        "모델의 성능을 높이기 위해 데이터 전처리 과정"
      ]
    },
    {
      "cell_type": "markdown",
      "metadata": {
        "id": "Y9ZsBsrz5d5a"
      },
      "source": [
        "### 1. One-hot encoding on Initiall and Embarked\n",
        "One-hot encoding을 통해 각 클래스간 연관성을 동이하게 생성<br>\n",
        "category가 많을 경우 column이 너무 많이 생성되어 **차원의 저주** 발생 주의"
      ]
    },
    {
      "cell_type": "code",
      "metadata": {
        "id": "t0giO4Vd5op6"
      },
      "source": [
        "df_train = pd.get_dummies(df_train, columns=['Initial'], prefix='Initial')\n",
        "df_test = pd.get_dummies(df_test, columns=['Initial'], prefix='Initial')"
      ],
      "execution_count": null,
      "outputs": []
    },
    {
      "cell_type": "code",
      "metadata": {
        "id": "OF9ESJTj6AaO"
      },
      "source": [
        "df_train.head()"
      ],
      "execution_count": null,
      "outputs": []
    },
    {
      "cell_type": "code",
      "metadata": {
        "id": "VZnkAhS66BSu"
      },
      "source": [
        "df_train = pd.get_dummies(df_train, columns=['Embarked'], prefix='Embarked')\n",
        "df_test = pd.get_dummies(df_test, columns=['Embarked'], prefix='Embarked')"
      ],
      "execution_count": null,
      "outputs": []
    },
    {
      "cell_type": "markdown",
      "metadata": {
        "id": "68q7mmfd6IOG"
      },
      "source": [
        "### 2. Drop columns\n",
        "필요없는 피쳐 제거"
      ]
    },
    {
      "cell_type": "code",
      "metadata": {
        "id": "MsxfuE7y6xIk"
      },
      "source": [
        "df_train.drop(['PassengerId', 'Name', 'SibSp', 'Parch', 'Ticket', 'Cabin'], axis=1, inplace=True)\n",
        "df_test.drop(['PassengerId', 'Name',  'SibSp', 'Parch', 'Ticket', 'Cabin'], axis=1, inplace=True)"
      ],
      "execution_count": null,
      "outputs": []
    },
    {
      "cell_type": "markdown",
      "metadata": {
        "id": "SAjTkmk87DDF"
      },
      "source": [
        "# 4. 모델 개발 및 학습\n",
        "Sklearn은 머신러닝에 관련된 모든 작업들이 손쉬운 인터페이스로 구현되어 있다.<br>\n",
        "현재 우리는 train set의 survived를 제외한 input을 가지고 모델을 최적화 시켜 탑승객의 생존유무를 판단하는 모델을 생성<br>\n",
        "그 후 test set을 input으로 주어서 탑승객의 생존유무를 예측"
      ]
    },
    {
      "cell_type": "code",
      "metadata": {
        "id": "dExfSH7Z7jvZ"
      },
      "source": [
        "#importing all the required ML packages\n",
        "from sklearn.ensemble import RandomForestClassifier # 유명한 randomforestclassfier 입니다. \n",
        "from sklearn import metrics # 모델의 평가를 위해서 씁니다\n",
        "from sklearn.model_selection import train_test_split # traning set을 쉽게 나눠주는 함수입니다."
      ],
      "execution_count": null,
      "outputs": []
    },
    {
      "cell_type": "markdown",
      "metadata": {
        "id": "9La9yZGA7l9m"
      },
      "source": [
        "## Preparation - Split dataset into train, valid, test set"
      ]
    },
    {
      "cell_type": "code",
      "metadata": {
        "id": "1KMxLWWl7wlD"
      },
      "source": [
        "X_train = df_train.drop('Survived', axis=1).values\n",
        "target_label = df_train['Survived'].values\n",
        "X_test = df_test.values"
      ],
      "execution_count": null,
      "outputs": []
    },
    {
      "cell_type": "code",
      "metadata": {
        "id": "-5D8ZQ7U7xpD"
      },
      "source": [
        "X_train.shape, X_test.shape"
      ],
      "execution_count": null,
      "outputs": []
    },
    {
      "cell_type": "code",
      "metadata": {
        "id": "SDYwiRTP7y3W"
      },
      "source": [
        "X_tr, X_vld, y_tr, y_vld = train_test_split(X_train, target_label, test_size=0.2, random_state=2018)"
      ],
      "execution_count": null,
      "outputs": []
    },
    {
      "cell_type": "code",
      "metadata": {
        "id": "CWi4SsFO71x1"
      },
      "source": [
        "y_tr.shape, y_vld.shape"
      ],
      "execution_count": null,
      "outputs": []
    },
    {
      "cell_type": "markdown",
      "metadata": {
        "id": "lMjmlg_Y72ry"
      },
      "source": [
        "## Model generation and prediction"
      ]
    },
    {
      "cell_type": "markdown",
      "metadata": {
        "id": "FdO2iBRy9Wcg"
      },
      "source": [
        "### Random Forest\n",
        "여러 알고리즘 중 랜덤포레스트를 사용<br>\n",
        "랜덤포레스트는 결정트리기반 모델로 여러 결정 트리들을 앙상블한 모델"
      ]
    },
    {
      "cell_type": "code",
      "metadata": {
        "id": "vuhvjvRK8MSQ"
      },
      "source": [
        "model = RandomForestClassifier() # 생성\n",
        "model.fit(X_tr, y_tr) # 학습\n",
        "prediction = model.predict(X_vld) # 예측"
      ],
      "execution_count": null,
      "outputs": []
    },
    {
      "cell_type": "code",
      "metadata": {
        "id": "8yYPq6zl8N9M"
      },
      "source": [
        "print('총 {}명 중 {:.2f}% 정확도로 생존을 맞춤'.format(y_vld.shape[0], 100 * metrics.accuracy_score(prediction, y_vld)))"
      ],
      "execution_count": null,
      "outputs": []
    },
    {
      "cell_type": "code",
      "metadata": {
        "id": "lO6LzgPa8THS"
      },
      "source": [
        "# 학습된 모델은 feature importance를 가지게 되는데,\n",
        "# 이는 어떤 feature가 결과에 영향을 많이 미쳤는지 확인할 수 있다.\n",
        "from pandas import Series\n",
        "\n",
        "feature_importance = model.feature_importances_\n",
        "Series_feat_imp = Series(feature_importance, index=df_test.columns)"
      ],
      "execution_count": null,
      "outputs": []
    },
    {
      "cell_type": "code",
      "metadata": {
        "id": "aBQUt7388opz"
      },
      "source": [
        "plt.figure(figsize=(8, 8))\n",
        "Series_feat_imp.sort_values(ascending=True).plot.barh()\n",
        "plt.xlabel('Feature importance')\n",
        "plt.ylabel('Feature')\n",
        "plt.show()"
      ],
      "execution_count": null,
      "outputs": []
    },
    {
      "cell_type": "markdown",
      "metadata": {
        "id": "v8-MqZNY8pyC"
      },
      "source": [
        "### NN모델(Neural Network)\n",
        "딥러닝 모델 사용\n"
      ]
    },
    {
      "cell_type": "code",
      "metadata": {
        "id": "38HIQvsU9zls"
      },
      "source": [
        "from keras.models import Sequential\n",
        "from keras.layers.core import Dense, Dropout\n",
        "from keras.optimizers import Adam, SGD"
      ],
      "execution_count": null,
      "outputs": []
    },
    {
      "cell_type": "code",
      "metadata": {
        "id": "LbU83jXw907R"
      },
      "source": [
        "nn_model = Sequential()\n",
        "nn_model.add(Dense(32,activation='relu',input_shape=(14,)))\n",
        "nn_model.add(Dropout(0.2))\n",
        "nn_model.add(Dense(64,activation='relu'))\n",
        "nn_model.add(Dropout(0.2))\n",
        "nn_model.add(Dense(32,activation='relu'))\n",
        "nn_model.add(Dropout(0.2))\n",
        "nn_model.add(Dense(1,activation='sigmoid'))\n",
        "\n",
        "Loss = 'binary_crossentropy'\n",
        "nn_model.compile(loss=Loss,optimizer=Adam(),metrics=['accuracy'])\n",
        "nn_model.summary()"
      ],
      "execution_count": null,
      "outputs": []
    },
    {
      "cell_type": "code",
      "metadata": {
        "id": "UN0xqu_396t2"
      },
      "source": [
        "history = nn_model.fit(X_tr,y_tr,\n",
        "                    batch_size=64,\n",
        "                    epochs=500,\n",
        "                    validation_data=(X_vld, y_vld),\n",
        "                    verbose=1)"
      ],
      "execution_count": null,
      "outputs": []
    },
    {
      "cell_type": "code",
      "metadata": {
        "id": "H192Rrn4-FKB"
      },
      "source": [
        "hists = [history]\n",
        "hist_df = pd.concat([pd.DataFrame(hist.history) for hist in hists], sort=True)\n",
        "hist_df.index = np.arange(1, len(hist_df)+1)\n",
        "fig, axs = plt.subplots(nrows=2, sharex=True, figsize=(16, 10))\n",
        "axs[0].plot(hist_df.val_accuracy, lw=5, label='Validation Accuracy')\n",
        "axs[0].plot(hist_df.accuracy, lw=5, label='Training Accuracy')\n",
        "axs[0].set_ylabel('Accuracy')\n",
        "axs[0].set_xlabel('Epoch')\n",
        "axs[0].grid()\n",
        "axs[0].legend(loc=0)\n",
        "axs[1].plot(hist_df.val_loss, lw=5, label='Validation MLogLoss')\n",
        "axs[1].plot(hist_df.loss, lw=5, label='Training MLogLoss')\n",
        "axs[1].set_ylabel('MLogLoss')\n",
        "axs[1].set_xlabel('Epoch')\n",
        "axs[1].grid()\n",
        "axs[1].legend(loc=0)\n",
        "fig.savefig('hist.png', dpi=300)\n",
        "plt.show();"
      ],
      "execution_count": null,
      "outputs": []
    },
    {
      "cell_type": "markdown",
      "metadata": {
        "id": "kxaSEtIM-ZZF"
      },
      "source": [
        "# 5. 모델 예측 및 평가"
      ]
    },
    {
      "cell_type": "markdown",
      "metadata": {
        "id": "IJDinn8p_EVr"
      },
      "source": [
        "## 1. 랜덤포레스트"
      ]
    },
    {
      "cell_type": "code",
      "metadata": {
        "id": "Oi2GXfuR-86H"
      },
      "source": [
        "submission = pd.read_csv('sample_submission.csv')\n",
        "submission.head()"
      ],
      "execution_count": null,
      "outputs": []
    },
    {
      "cell_type": "code",
      "metadata": {
        "id": "YIoUyAA3-_94"
      },
      "source": [
        "prediction = model.predict(X_test)\n",
        "submission['Survived'] = prediction"
      ],
      "execution_count": null,
      "outputs": []
    },
    {
      "cell_type": "code",
      "metadata": {
        "id": "-FlUomUE_BLf"
      },
      "source": [
        "submission.to_csv('my_first_submission.csv', index=False)\n",
        "# 정확도 스코어: 0.75598"
      ],
      "execution_count": null,
      "outputs": []
    },
    {
      "cell_type": "markdown",
      "metadata": {
        "id": "Xg0yU_0E_COL"
      },
      "source": [
        "## 2. NN모델"
      ]
    },
    {
      "cell_type": "code",
      "metadata": {
        "id": "Myh_2u2w_K9B"
      },
      "source": [
        "submission = pd.read_csv('sample_submission.csv')\n",
        "prediction = nn_model.predict(X_test)\n",
        "prediction = prediction > 0.5\n",
        "prediction = prediction.astype(np.int)\n",
        "prediction = prediction.T[0]\n",
        "prediction.shape"
      ],
      "execution_count": null,
      "outputs": []
    },
    {
      "cell_type": "code",
      "metadata": {
        "id": "j3C-Z3Nj_L-m"
      },
      "source": [
        "submission['Survived'] = prediction\n",
        "submission.to_csv('my_nn_submission.csv', index=False)\n",
        "# 정확도 사코어: 0.77990"
      ],
      "execution_count": null,
      "outputs": []
    }
  ]
}