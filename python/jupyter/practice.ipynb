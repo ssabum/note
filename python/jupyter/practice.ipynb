{
 "cells": [
  {
   "cell_type": "code",
   "execution_count": null,
   "id": "typical-brazilian",
   "metadata": {},
   "outputs": [],
   "source": [
    "list1 = [True, False, True]"
   ]
  },
  {
   "cell_type": "code",
   "execution_count": null,
   "id": "finnish-filing",
   "metadata": {},
   "outputs": [],
   "source": [
    "bool(list1)"
   ]
  },
  {
   "cell_type": "code",
   "execution_count": null,
   "id": "ahead-address",
   "metadata": {},
   "outputs": [],
   "source": [
    "list2 = [False, False]"
   ]
  },
  {
   "cell_type": "code",
   "execution_count": null,
   "id": "located-austria",
   "metadata": {},
   "outputs": [],
   "source": [
    "bool(list2)"
   ]
  },
  {
   "cell_type": "code",
   "execution_count": null,
   "id": "medical-howard",
   "metadata": {},
   "outputs": [],
   "source": [
    "# mutable / immutable 복사\n",
    "my_str = 'abc'\n",
    "new_str = my_str"
   ]
  },
  {
   "cell_type": "code",
   "execution_count": null,
   "id": "sunrise-inside",
   "metadata": {},
   "outputs": [],
   "source": [
    "new_str = 'def'\n",
    "print(my_str, new_str)"
   ]
  },
  {
   "cell_type": "code",
   "execution_count": null,
   "id": "intellectual-netherlands",
   "metadata": {},
   "outputs": [],
   "source": [
    "my_list = [1, 2, 3]\n",
    "new_list = my_list"
   ]
  },
  {
   "cell_type": "code",
   "execution_count": null,
   "id": "confirmed-rental",
   "metadata": {},
   "outputs": [],
   "source": [
    "new_list[0] = 4\n",
    "print(my_list, new_list)"
   ]
  },
  {
   "cell_type": "code",
   "execution_count": 2,
   "id": "guided-reverse",
   "metadata": {},
   "outputs": [
    {
     "name": "stdout",
     "output_type": "stream",
     "text": [
      "[1, 2, 3] [4, 2, 3]\n"
     ]
    }
   ],
   "source": [
    "import copy\n",
    "list_a = [1, 2, 3]\n",
    "list_b = copy.copy(list_a)\n",
    "list_b[0] = 4\n",
    "print(list_a, list_b)"
   ]
  },
  {
   "cell_type": "code",
   "execution_count": 2,
   "id": "herbal-travel",
   "metadata": {},
   "outputs": [
    {
     "name": "stdout",
     "output_type": "stream",
     "text": [
      "10\n",
      "1\n",
      "2\n",
      "3\n",
      "4\n",
      "5\n",
      "6\n",
      "7\n",
      "8\n",
      "9\n",
      "10\n"
     ]
    }
   ],
   "source": [
    "number = int(input())\n",
    "for i in range(1, number+1):\n",
    "    print(i)"
   ]
  },
  {
   "cell_type": "code",
   "execution_count": 4,
   "id": "annoying-culture",
   "metadata": {},
   "outputs": [
    {
     "name": "stdout",
     "output_type": "stream",
     "text": [
      "10\n",
      "9\n",
      "8\n",
      "7\n",
      "6\n",
      "5\n",
      "4\n",
      "3\n",
      "2\n",
      "1\n"
     ]
    }
   ],
   "source": [
    "for i in range(number, 0, -1):\n",
    "    print(i)"
   ]
  },
  {
   "cell_type": "code",
   "execution_count": 7,
   "id": "urban-format",
   "metadata": {},
   "outputs": [
    {
     "name": "stdout",
     "output_type": "stream",
     "text": [
      "5\n",
      "15\n"
     ]
    }
   ],
   "source": [
    "number = int(input())\n",
    "tot = 0\n",
    "for i in range(1, number+1):\n",
    "    tot += i\n",
    "print(tot)"
   ]
  },
  {
   "cell_type": "code",
   "execution_count": null,
   "id": "temporal-viewer",
   "metadata": {},
   "outputs": [],
   "source": []
  }
 ],
 "metadata": {
  "hide_input": false,
  "kernelspec": {
   "display_name": "Python 3",
   "language": "python",
   "name": "python3"
  },
  "language_info": {
   "codemirror_mode": {
    "name": "ipython",
    "version": 3
   },
   "file_extension": ".py",
   "mimetype": "text/x-python",
   "name": "python",
   "nbconvert_exporter": "python",
   "pygments_lexer": "ipython3",
   "version": "3.8.7"
  },
  "toc": {
   "base_numbering": 1,
   "nav_menu": {},
   "number_sections": true,
   "sideBar": true,
   "skip_h1_title": false,
   "title_cell": "Table of Contents",
   "title_sidebar": "Contents",
   "toc_cell": false,
   "toc_position": {},
   "toc_section_display": true,
   "toc_window_display": false
  },
  "varInspector": {
   "cols": {
    "lenName": 16,
    "lenType": 16,
    "lenVar": 40
   },
   "kernels_config": {
    "python": {
     "delete_cmd_postfix": "",
     "delete_cmd_prefix": "del ",
     "library": "var_list.py",
     "varRefreshCmd": "print(var_dic_list())"
    },
    "r": {
     "delete_cmd_postfix": ") ",
     "delete_cmd_prefix": "rm(",
     "library": "var_list.r",
     "varRefreshCmd": "cat(var_dic_list()) "
    }
   },
   "types_to_exclude": [
    "module",
    "function",
    "builtin_function_or_method",
    "instance",
    "_Feature"
   ],
   "window_display": false
  }
 },
 "nbformat": 4,
 "nbformat_minor": 5
}
