{
 "cells": [
  {
   "cell_type": "markdown",
   "metadata": {},
   "source": [
    "### 과일 개수 골라내기\n",
    "> 내 장바구니에 과일이 몇 개인지, 과일이 아닌 것은 몇 개인지 출력하세요.\n",
    "장바구니에 담긴 과일과, 과일 판별 리스트는 다음과 같습니다. \n",
    "\n",
    "예시 )\n",
    "```python\n",
    "basket_items = {'apples': 4, 'oranges': 19, 'kites': 3, 'sandwitches': 8}\n",
    "fruits = ['apples', 'oranges', 'pears', 'peaches', 'grapes', 'bananas']\n",
    "\n",
    "# 출력 예시)\n",
    "# 과일은 23개이고, 11개는 과일이 아닙니다.\n",
    "```"
   ]
  },
  {
   "cell_type": "code",
   "execution_count": 25,
   "metadata": {},
   "outputs": [
    {
     "name": "stdout",
     "output_type": "stream",
     "text": [
      "과일은 23개이고, 11개는 과일이 아닙니다.\n"
     ]
    }
   ],
   "source": [
    "basket_items = {'apples': 4, 'oranges': 19, 'kites': 3, 'sandwitches': 8}\n",
    "fruits = ['apples', 'oranges', 'pears', 'peaches', 'grapes', 'bananas']\n",
    "\n",
    "# 아래에 코드를 작성하시오.\n",
    "# 과일 개수와 과일이 아닌 것들의 개수를 담을 변수 생성\n",
    "fruit_cnt = 0\n",
    "no_cnt = 0\n",
    "\n",
    "# 딕셔너리의 key값을 순환\n",
    "for key in basket_items:\n",
    "    # 만약 과일이면\n",
    "    if key in fruits:\n",
    "        # 과일 카운트 증가\n",
    "        fruit_cnt += basket_items.get(key)\n",
    "    # 과일이 아니면\n",
    "    else:\n",
    "        # 과일이 아닌 카운트 증가\n",
    "        no_cnt += basket_items.get(key)\n",
    "        \n",
    "# 요구사항에 맞게 출력\n",
    "print(f'과일은 {fruit_cnt}개이고, {no_cnt}개는 과일이 아닙니다.')"
   ]
  },
  {
   "cell_type": "code",
   "execution_count": 33,
   "metadata": {},
   "outputs": [
    {
     "name": "stdout",
     "output_type": "stream",
     "text": [
      "과일은 23개이고, 11개는 과일이 아닙니다.\n"
     ]
    }
   ],
   "source": [
    "# v2.0\n",
    "fruit_cnt = 0\n",
    "no_fruit_cnt = 0\n",
    "\n",
    "for key, val in basket_items.items():\n",
    "    if key in fruits:\n",
    "        fruit_cnt += val\n",
    "    else:\n",
    "        no_fruit_cnt += val\n",
    "        \n",
    "print(f'과일은 {fruit_cnt}개이고, {no_fruit_cnt}개는 과일이 아닙니다.')"
   ]
  },
  {
   "cell_type": "markdown",
   "metadata": {},
   "source": [
    "### 문자열 탐색\n",
    "> 문자열 요소로만 이루어진 리스트를 넣었을 때, 문자열 길이가 2 이상이고 주어진 문자열의 첫번째와 마지막 문자가 같은 문자열의 수를 세는 함수 `start_end`를 작성하세요.\n",
    "\n",
    "예시 )\n",
    "```python\n",
    "start_end(['level', 'asdwe', 's', 'abceda', 'gsdwrtfg']) # => 3\n",
    "```"
   ]
  },
  {
   "cell_type": "code",
   "execution_count": 26,
   "metadata": {},
   "outputs": [],
   "source": [
    "# 아래에 코드를 작성하시오.\n",
    "def start_end(my_list):\n",
    "    # 결과값을 담을 변수 생성\n",
    "    tot = 0\n",
    "    \n",
    "    # 리스트 순환\n",
    "    for i in my_list:\n",
    "        # 문자열의 길이가 2이상일때\n",
    "        if len(i) >= 2:\n",
    "            # 첫번째와 마지막 문자가 같으면\n",
    "            if i[0] == i[-1]:\n",
    "                # 카운트 증가\n",
    "                tot += 1\n",
    "                \n",
    "    return tot"
   ]
  },
  {
   "cell_type": "code",
   "execution_count": 27,
   "metadata": {},
   "outputs": [
    {
     "data": {
      "text/plain": [
       "3"
      ]
     },
     "execution_count": 27,
     "metadata": {},
     "output_type": "execute_result"
    }
   ],
   "source": [
    "start_end(['level', 'asdwe', 's', 'abceda', 'gsdwrtfg'])"
   ]
  },
  {
   "cell_type": "code",
   "execution_count": 72,
   "metadata": {},
   "outputs": [],
   "source": [
    "def start_end(words):\n",
    "    res = 0\n",
    "    \n",
    "    for word in words:\n",
    "        if len(word) >= 2 and word[0] == word[-1]:\n",
    "            res += 1\n",
    "    \n",
    "    return res"
   ]
  },
  {
   "cell_type": "code",
   "execution_count": 73,
   "metadata": {},
   "outputs": [
    {
     "data": {
      "text/plain": [
       "3"
      ]
     },
     "execution_count": 73,
     "metadata": {},
     "output_type": "execute_result"
    }
   ],
   "source": [
    "start_end(['level', 'asdwe', 's', 'abceda', 'gsdwrtfg'])"
   ]
  },
  {
   "cell_type": "markdown",
   "metadata": {},
   "source": [
    "### 개인정보보호\n",
    "> 사용자의 핸드폰번호를 입력 받고, 개인정보 보호를 위하여 뒷자리 4자리를 제외한 모든 번호를 *로 변경하는 함수 `privacy`를 작성하시오.\n",
    "- 핸드폰 번호는 010으로 시작해야하고, 11자리여야 한다.\n",
    "- 핸드폰 번호를 입력하지 않았다면 \"핸드폰 번호를 입력하세요.\"를 반환한다.\n",
    "\n",
    "예시 )\n",
    "```python\n",
    "privacy('01012341234') # => `*******1234`\n",
    "```"
   ]
  },
  {
   "cell_type": "code",
   "execution_count": 38,
   "metadata": {},
   "outputs": [],
   "source": [
    "# 아래에 코드를 작성하시오.\n",
    "def privacy(word):\n",
    "    # 핸드폰 번호 입력하지 않으면 안내문구 반환\n",
    "    if len(word) == 0:\n",
    "        return '핸드폰 번호를 입력하세요.'\n",
    "    \n",
    "    # 결과값 담을 문자열 생성\n",
    "    res = ''\n",
    "    # 뒤에 4자리만 출력하기 위해 뒤에서부터 4개 숫자 출력\n",
    "    for i in range(-1, -5, -1):\n",
    "        res += word[i]        \n",
    "    # 형식에 맞추기 위해 앞에 * 출력\n",
    "    res = '*' * 7 + res\n",
    "    \n",
    "    return res"
   ]
  },
  {
   "cell_type": "code",
   "execution_count": 46,
   "metadata": {},
   "outputs": [
    {
     "name": "stdout",
     "output_type": "stream",
     "text": [
      "*******4321\n",
      "핸드폰 번호를 입력하세요.\n"
     ]
    }
   ],
   "source": [
    "print(privacy('01012341234'))\n",
    "print(privacy(''))"
   ]
  },
  {
   "cell_type": "code",
   "execution_count": 62,
   "metadata": {},
   "outputs": [],
   "source": [
    "def privacy(phone):\n",
    "    res = ''\n",
    "    \n",
    "    if phone[:3] == '010' and len(phone) == 11 and phone.isdigit():\n",
    "        for i in range(len(phone)):\n",
    "            if i < 7:\n",
    "                res += '*'\n",
    "            else:\n",
    "                res += phone[i]\n",
    "    \n",
    "    else:\n",
    "        res = '핸드폰 번호를 입력해 주세요.'\n",
    "    return res"
   ]
  },
  {
   "cell_type": "code",
   "execution_count": 65,
   "metadata": {},
   "outputs": [],
   "source": [
    "def privacy(phone):\n",
    "    res = ''\n",
    "    \n",
    "    if phone[:3] == '010' and len(phone) == 11 and phone.isdigit():\n",
    "        for idx, char in enumerate(phone):\n",
    "            if idx < 7:\n",
    "                res += '*'\n",
    "            else:\n",
    "                res += char\n",
    "    \n",
    "    else:\n",
    "        res = '핸드폰 번호를 입력해 주세요.'\n",
    "    return res"
   ]
  },
  {
   "cell_type": "code",
   "execution_count": 68,
   "metadata": {},
   "outputs": [
    {
     "name": "stdout",
     "output_type": "stream",
     "text": [
      "*******1234\n",
      "핸드폰 번호를 입력해 주세요.\n"
     ]
    }
   ],
   "source": [
    "print(privacy('01012341234'))\n",
    "print(privacy(''))"
   ]
  }
 ],
 "metadata": {
  "kernelspec": {
   "display_name": "Python 3",
   "language": "python",
   "name": "python3"
  },
  "language_info": {
   "codemirror_mode": {
    "name": "ipython",
    "version": 3
   },
   "file_extension": ".py",
   "mimetype": "text/x-python",
   "name": "python",
   "nbconvert_exporter": "python",
   "pygments_lexer": "ipython3",
   "version": "3.8.7"
  },
  "toc": {
   "base_numbering": 1,
   "nav_menu": {},
   "number_sections": true,
   "sideBar": true,
   "skip_h1_title": false,
   "title_cell": "Table of Contents",
   "title_sidebar": "Contents",
   "toc_cell": false,
   "toc_position": {},
   "toc_section_display": true,
   "toc_window_display": false
  }
 },
 "nbformat": 4,
 "nbformat_minor": 4
}
