{
 "cells": [
  {
   "cell_type": "code",
   "execution_count": 1,
   "id": "naughty-might",
   "metadata": {},
   "outputs": [],
   "source": [
    "class Parents:\n",
    "    def __init__(self, name, age):\n",
    "        self.name = name\n",
    "        self.age = age"
   ]
  },
  {
   "cell_type": "code",
   "execution_count": 2,
   "id": "baking-focus",
   "metadata": {},
   "outputs": [],
   "source": [
    "def test():\n",
    "    return 'Hello, World'"
   ]
  },
  {
   "cell_type": "code",
   "execution_count": 3,
   "id": "understanding-carpet",
   "metadata": {},
   "outputs": [
    {
     "data": {
      "text/plain": [
       "'Hello, World'"
      ]
     },
     "execution_count": 3,
     "metadata": {},
     "output_type": "execute_result"
    }
   ],
   "source": [
    "test()"
   ]
  },
  {
   "cell_type": "code",
   "execution_count": 26,
   "id": "statutory-probe",
   "metadata": {},
   "outputs": [],
   "source": [
    "class Cola:\n",
    "    # 클래스는 객체를 생성하고\n",
    "    # 타입들이 가지는 공통적인 속성을 관리한다.\n",
    "    # 클래스 변수를 수정해야 하는 경우가 있다면 클래스 메서드로 정의 후 호출함으로써 변경\n",
    "    sugar = True\n",
    "    num_of_cola = 0\n",
    "    \n",
    "    def __init__(self, price):\n",
    "        # 별도로 변수를 지정되어 있지 않아도, 호출을 하게 되면\n",
    "        # 인스턴스 변수를 찾아보고 > 클래스 변수를 찾아가게 된다.\n",
    "        self.price = price\n",
    "        Cola.num_of_cola += 1\n",
    "    \n",
    "    def instance_make_non_sugar(self):\n",
    "        print(self)\n",
    "        self.sugar = False\n",
    "        \n",
    "    # @classmethod가 하는 일\n",
    "    # 1. 메서드 정의시 첫번째로 오는 인자에 담기는 값을 class로 변경\n",
    "    # 2. 클래스 메서드라는 사실을 명시\n",
    "    # 3. 해당 클래스에 속하는 모든 instance들에 공통적으로 변동사항이 발생 할 수 있으니 사용시 주의\n",
    "    @classmethod\n",
    "    def make_non_sugar(cls):\n",
    "        print(cls)\n",
    "        cls.sugar = False\n",
    "    \n",
    "    # @staticmethod가 하는 일\n",
    "    # 클래스와 연관은 있지만 인스턴스나 클래스가 가진 속성과 관계 없는 행동이 필요할 때\n",
    "    @staticmethod\n",
    "    def whatiscola():\n",
    "        return '콜라는 과일의 한 종류입니다. 탄산 음료의 재료로 사용됩니다.'"
   ]
  },
  {
   "cell_type": "code",
   "execution_count": 27,
   "id": "insured-olive",
   "metadata": {},
   "outputs": [
    {
     "data": {
      "text/plain": [
       "'콜라는 과일의 한 종류입니다. 탄산 음료의 재료로 사용됩니다.'"
      ]
     },
     "execution_count": 27,
     "metadata": {},
     "output_type": "execute_result"
    }
   ],
   "source": [
    "a = Cola(100)\n",
    "a.whatiscola()"
   ]
  },
  {
   "cell_type": "code",
   "execution_count": 28,
   "id": "hawaiian-burden",
   "metadata": {},
   "outputs": [
    {
     "name": "stdout",
     "output_type": "stream",
     "text": [
      "1000\n",
      "1200\n"
     ]
    }
   ],
   "source": [
    "pepsi = Cola(1000)\n",
    "coke = Cola(1200)\n",
    "print(pepsi.price)\n",
    "print(coke.price)"
   ]
  },
  {
   "cell_type": "code",
   "execution_count": 29,
   "id": "integral-worker",
   "metadata": {},
   "outputs": [
    {
     "name": "stdout",
     "output_type": "stream",
     "text": [
      "500\n",
      "1200\n"
     ]
    }
   ],
   "source": [
    "pepsi.price = 500\n",
    "print(pepsi.price)\n",
    "print(coke.price)"
   ]
  },
  {
   "cell_type": "code",
   "execution_count": 30,
   "id": "continued-embassy",
   "metadata": {},
   "outputs": [
    {
     "name": "stdout",
     "output_type": "stream",
     "text": [
      "True\n",
      "True\n"
     ]
    }
   ],
   "source": [
    "print(pepsi.sugar)\n",
    "print(coke.sugar)"
   ]
  },
  {
   "cell_type": "code",
   "execution_count": 31,
   "id": "advisory-carbon",
   "metadata": {},
   "outputs": [
    {
     "name": "stdout",
     "output_type": "stream",
     "text": [
      "<__main__.Cola object at 0x0000022F5F80B6D0>\n",
      "False\n",
      "True\n"
     ]
    }
   ],
   "source": [
    "pepsi.instance_make_non_sugar()\n",
    "print(pepsi.sugar)\n",
    "print(coke.sugar)"
   ]
  },
  {
   "cell_type": "code",
   "execution_count": 33,
   "id": "considered-investment",
   "metadata": {},
   "outputs": [
    {
     "name": "stdout",
     "output_type": "stream",
     "text": [
      "<class '__main__.Cola'>\n",
      "False\n",
      "False\n"
     ]
    }
   ],
   "source": [
    "# 인스턴스로 classmethod에 접근해도 실행\n",
    "pepsi.make_non_sugar()\n",
    "print(pepsi.sugar)\n",
    "print(coke.sugar) # classmethod가 수행되어 False 반환"
   ]
  },
  {
   "cell_type": "code",
   "execution_count": 42,
   "id": "current-trace",
   "metadata": {},
   "outputs": [],
   "source": [
    "class Cola:\n",
    "    sugar = True\n",
    "    num_of_cola = 0\n",
    "    \n",
    "    def __init__(self, price, flavor, carbonic_acid):\n",
    "        self.price = price\n",
    "        self.flavor = flavor\n",
    "        self.carbonic_acid = carbonic_acid\n",
    "        Cola.num_of_cola += 1\n",
    "        \n",
    "    def whatiscola(self):\n",
    "        return '콜라'\n",
    "        \n",
    "class Pepsi(Cola):\n",
    "    \n",
    "    def __init__(self, price, flavor, carbonic_acid, color):\n",
    "        # 부모 클래스가 가지고 있는 생성 메서드를 그대로 사용하겠다.\n",
    "        # 그대로 사용을 해야 하므로 당연히 인자들도 똑같이 넘겨 줘야한다.\n",
    "        super().__init__(price, flavor, carbonic_acid)\n",
    "        self.color = color\n",
    "        \n",
    "    def whatiscola(self):\n",
    "        print('펩시')\n",
    "        # super는 직속 클래스에 해당하는 내용만 가져온다.\n",
    "        return super().whatiscola()"
   ]
  },
  {
   "cell_type": "code",
   "execution_count": 43,
   "id": "directed-costs",
   "metadata": {},
   "outputs": [
    {
     "data": {
      "text/plain": [
       "'콜라는 과일의 한 종류입니다. 탄산 음료의 재료로 사용됩니다.'"
      ]
     },
     "execution_count": 43,
     "metadata": {},
     "output_type": "execute_result"
    }
   ],
   "source": [
    "pepsi.whatiscola()"
   ]
  },
  {
   "cell_type": "code",
   "execution_count": 45,
   "id": "interracial-timeline",
   "metadata": {},
   "outputs": [],
   "source": [
    "def my_kwargs(**kwargs):\n",
    "    return kwargs"
   ]
  },
  {
   "cell_type": "code",
   "execution_count": 46,
   "id": "headed-finnish",
   "metadata": {},
   "outputs": [
    {
     "data": {
      "text/plain": [
       "{'이름': '차범', '언어': '파이썬'}"
      ]
     },
     "execution_count": 46,
     "metadata": {},
     "output_type": "execute_result"
    }
   ],
   "source": [
    "my_kwargs(이름='차범', 언어='파이썬')"
   ]
  },
  {
   "cell_type": "code",
   "execution_count": 47,
   "id": "familiar-hebrew",
   "metadata": {},
   "outputs": [
    {
     "ename": "SyntaxError",
     "evalue": "expression cannot contain assignment, perhaps you meant \"==\"? (<ipython-input-47-ab5457b1a22f>, line 1)",
     "output_type": "error",
     "traceback": [
      "\u001b[1;36m  File \u001b[1;32m\"<ipython-input-47-ab5457b1a22f>\"\u001b[1;36m, line \u001b[1;32m1\u001b[0m\n\u001b[1;33m    my_kwargs('이름'='차범', '언어'='파이썬')\u001b[0m\n\u001b[1;37m              ^\u001b[0m\n\u001b[1;31mSyntaxError\u001b[0m\u001b[1;31m:\u001b[0m expression cannot contain assignment, perhaps you meant \"==\"?\n"
     ]
    }
   ],
   "source": [
    "my_kwargs('이름'='차범', '언어'='파이썬')"
   ]
  },
  {
   "cell_type": "code",
   "execution_count": null,
   "id": "frequent-partnership",
   "metadata": {},
   "outputs": [],
   "source": []
  }
 ],
 "metadata": {
  "kernelspec": {
   "display_name": "Python 3",
   "language": "python",
   "name": "python3"
  },
  "language_info": {
   "codemirror_mode": {
    "name": "ipython",
    "version": 3
   },
   "file_extension": ".py",
   "mimetype": "text/x-python",
   "name": "python",
   "nbconvert_exporter": "python",
   "pygments_lexer": "ipython3",
   "version": "3.8.7"
  }
 },
 "nbformat": 4,
 "nbformat_minor": 5
}
