{
 "cells": [
  {
   "cell_type": "code",
   "execution_count": 3,
   "id": "textile-killing",
   "metadata": {},
   "outputs": [],
   "source": [
    "import streamlit as st\n",
    "import pandas_datareader as pdr\n",
    "\n",
    "st.write('''\n",
    "# 삼성전자 주식 데이터\n",
    ">마감 가격과 거래량을 차트로 보여줍니다!\n",
    "''')\n",
    "\n",
    "# https://finance.yahoo.com/quote/005930.KS\n",
    "df = pdr.get_data_yahoo('005930.KS', '2020-01-01', '2020-09-30')\n",
    "\n",
    "st.line_chart(df.Close)\n",
    "st.line_chart(df.Volume)\n",
    "%matplotlib inline"
   ]
  },
  {
   "cell_type": "code",
   "execution_count": null,
   "id": "governmental-watch",
   "metadata": {},
   "outputs": [],
   "source": []
  }
 ],
 "metadata": {
  "kernelspec": {
   "display_name": "Python 3",
   "language": "python",
   "name": "python3"
  },
  "language_info": {
   "codemirror_mode": {
    "name": "ipython",
    "version": 3
   },
   "file_extension": ".py",
   "mimetype": "text/x-python",
   "name": "python",
   "nbconvert_exporter": "python",
   "pygments_lexer": "ipython3",
   "version": "3.8.7"
  },
  "toc": {
   "base_numbering": 1,
   "nav_menu": {},
   "number_sections": true,
   "sideBar": true,
   "skip_h1_title": false,
   "title_cell": "Table of Contents",
   "title_sidebar": "Contents",
   "toc_cell": false,
   "toc_position": {},
   "toc_section_display": true,
   "toc_window_display": false
  }
 },
 "nbformat": 4,
 "nbformat_minor": 5
}
